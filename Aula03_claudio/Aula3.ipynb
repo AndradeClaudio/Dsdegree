{
 "cells": [
  {
   "cell_type": "markdown",
   "metadata": {},
   "source": [
    "# Estruturas Condicionais\n",
    "## Questão #1\n",
    "### Enunciado\n",
    "Faça um programa que peça a idade do usuário e imprima se ele é maior ou menor de 18 anos."
   ]
  },
  {
   "cell_type": "code",
   "execution_count": 6,
   "metadata": {},
   "outputs": [
    {
     "name": "stdout",
     "output_type": "stream",
     "text": [
      "Qual a sua idade? 18\n",
      "18 anos\n"
     ]
    }
   ],
   "source": [
    "idade = int(input(\"Qual a sua idade? \"))\n",
    "if idade>18:\n",
    "    print(\"Maior que 18\")\n",
    "elif idade<18:\n",
    "    print(\"Menor que 18\")\n",
    "else:\n",
    "    print(\"18 anos\")\n"
   ]
  },
  {
   "cell_type": "markdown",
   "metadata": {},
   "source": [
    "## Questão #2\n",
    "### Enunciado\n",
    "Faça um programa que peça um número e mostre se ele é positivo ou negativo."
   ]
  },
  {
   "cell_type": "code",
   "execution_count": 9,
   "metadata": {},
   "outputs": [
    {
     "name": "stdout",
     "output_type": "stream",
     "text": [
      "Digite um número: -1\n",
      "Numero negativo\n"
     ]
    }
   ],
   "source": [
    "numero = float(input(\"Digite um número: \"))\n",
    "if numero>=0:\n",
    "    print(\"Numero positivo \")\n",
    "else:\n",
    "    print(\"Numero negativo\")"
   ]
  },
  {
   "cell_type": "markdown",
   "metadata": {},
   "source": [
    "## Questão #3\n",
    "### Enunciado\n",
    "Faça um programa que peça dois números e mostre o maior deles."
   ]
  },
  {
   "cell_type": "code",
   "execution_count": 13,
   "metadata": {},
   "outputs": [
    {
     "name": "stdout",
     "output_type": "stream",
     "text": [
      "Digite o primeiro número: 4\n",
      "Digite o segundo número: 3\n",
      "O maior numero é:  4.0\n"
     ]
    }
   ],
   "source": [
    "a = float(input(\"Digite o primeiro número: \"))\n",
    "b = float(input(\"Digite o segundo número: \"))\n",
    "\n",
    "if a>b:\n",
    "    print(\"O maior numero é: \", a)\n",
    "elif a<b:\n",
    "    print(\"O maior numero é: \", b)\n",
    "else:\n",
    "    print(\"Os números são iguais!!! \")"
   ]
  },
  {
   "cell_type": "markdown",
   "metadata": {},
   "source": [
    "## Questão 4\n",
    "### Enunciado\n",
    "Faça um programa que leia a validade das informações:\n",
    "\n",
    "a. Idade: entre 0 e 150;\n",
    "\n",
    "b. Salário: maior que 0;\n",
    "\n",
    "c. Sexo: M, F ou Outro;\n",
    "\n",
    "O programa deve imprimir uma mensagem de erro para cada informação inválida."
   ]
  },
  {
   "cell_type": "code",
   "execution_count": 30,
   "metadata": {},
   "outputs": [
    {
     "name": "stdout",
     "output_type": "stream",
     "text": [
      "Qual é a sua idade? 1\n",
      "Qual é o seu salário? 2\n",
      "Qual é o seu Sexo? A\n",
      "Opções válidas: M, F ou OUTRO\n",
      "Qual o seu sexo?M\n"
     ]
    }
   ],
   "source": [
    "idade = int(input(\"Qual é a sua idade? \"))\n",
    "while idade<0 or idade>150:\n",
    "    print(\"Digite uma idade entre 0 e 150 anos\")\n",
    "    idade = int(input(\"Qual é a sua idade? \"))\n",
    "salario = float(input(\"Qual é o seu salário? \"))\n",
    "while salario<=0:\n",
    "    print(\"Digite um salario maior que 0! \")\n",
    "    salario = float(input(\"Qual é o seu salário? \"))\n",
    "sexo = input(\"Qual é o seu Sexo? \")\n",
    "while sexo not in {\"M\",\"F\",\"OUTRO\"}:\n",
    "    print(\"Opções válidas: M, F ou OUTRO\")\n",
    "    sexo = input(\"Qual o seu sexo? \")"
   ]
  },
  {
   "cell_type": "code",
   "execution_count": null,
   "metadata": {},
   "outputs": [],
   "source": []
  },
  {
   "cell_type": "markdown",
   "metadata": {},
   "source": [
    "## QUESTÃO #5\n",
    "### Enunciado\n",
    "Escreva um programa que peça a nota de 3 provas de um aluno e verifique se ele passou ou não de ano.\n",
    "\n",
    "Obs.: O aluno irá passar de ano se sua média for maior que 6."
   ]
  },
  {
   "cell_type": "code",
   "execution_count": 34,
   "metadata": {},
   "outputs": [
    {
     "name": "stdout",
     "output_type": "stream",
     "text": [
      "Digite a primeira nota: 7\n",
      "Digite a segunda nota: 7\n",
      "Digite a terceiro nota: 7\n",
      "Aluno passou!\n"
     ]
    }
   ],
   "source": [
    "Nota1 = float(input(\"Digite a primeira nota: \"))\n",
    "Nota2 = float(input(\"Digite a segunda nota: \"))\n",
    "Nota3 = float(input(\"Digite a terceiro nota: \"))\n",
    "media = (Nota1+Nota2+Nota3)/3\n",
    "if(media>6):\n",
    "    print(\"Aluno passou!\")\n",
    "else:\n",
    "    print(\"Aluno não passou\")"
   ]
  },
  {
   "cell_type": "markdown",
   "metadata": {},
   "source": [
    "## Questão #6\n",
    "### Enunciado\n",
    "Faça um programa que mostre uma questão de múltipla escolha com 5 opções (letras a, b, c, d, e).  \n",
    "Sabendo a resposta certa, o programa deve receber a opção do usuário e informar a letra que o usuário marcou  \n",
    "e se a resposta está certa ou errada."
   ]
  },
  {
   "cell_type": "code",
   "execution_count": 54,
   "metadata": {},
   "outputs": [
    {
     "name": "stdout",
     "output_type": "stream",
     "text": [
      "Qual é o maior salário do cientista de dados que vai ser pago pelo grupo da Empiricus?\n",
      " A) 08k\n",
      " B) 25k\n",
      " C) 12k\n",
      " D) 06k\n",
      "\n",
      "Digite a respota: 12\n",
      "Resposta inválida, tente novamente. \n",
      "Digite a respota: a\n",
      "Ops, esse não é o salário correto. \n"
     ]
    }
   ],
   "source": [
    "print(\"Qual é o maior salário do cientista de dados que vai ser pago pelo grupo da Empiricus?\")\n",
    "print(\" A) 08k\\n B) 25k\\n C) 12k\\n D) 06k\\n\")\n",
    "resposta = input(\"Digite a respota: \").upper()\n",
    "while resposta not in {\"A\",\"B\",\"C\",\"D\"}:\n",
    "    print(\"Resposta inválida, tente novamente. \")\n",
    "    resposta = input(\"Digite a respota: \").upper()\n",
    "if resposta==\"B\":\n",
    "    print(\"Parabéns, você está mais próximo deste salário\")\n",
    "else:\n",
    "    print(\"Ops, esse não é o salário correto. \")\n",
    "    "
   ]
  },
  {
   "cell_type": "markdown",
   "metadata": {},
   "source": [
    "## Questão # 7\n",
    "### Enunciado\n",
    "Vamos fazer um programa para verificar quem é o assassino de um crime.  \n",
    "Para descobrir o assassino, a polícia faz um pequeno questionário com 5 perguntas  \n",
    "onde a resposta só pode ser sim ou não:\n",
    "\n",
    "a. Mora perto da vítima?\n",
    "\n",
    "b. Já trabalhou com a vítima?\n",
    "\n",
    "c. Telefonou para a vítima?\n",
    "\n",
    "d. Esteve no local do crime?\n",
    "\n",
    "e. Devia para a vítima?\n",
    "\n",
    "Cada resposta sim dá um ponto para o suspeito. A polícia considera que os suspeitos com 5 pontos são os assassinos, com 4 a 3 pontos são cúmplices e 2 pontos são apenas suspeitos, necessitando outras investigações. Valores iguais ou abaixo de 1 são liberados."
   ]
  },
  {
   "cell_type": "code",
   "execution_count": 71,
   "metadata": {},
   "outputs": [
    {
     "name": "stdout",
     "output_type": "stream",
     "text": [
      "Liberado. Pontuação:  1\n"
     ]
    }
   ],
   "source": [
    "from IPython.display import clear_output\n",
    "\n",
    "print(\"Responda as perguntas abaixo com sim ou não!\")\n",
    "perguntas =[\"Mora perto da vítima? \",\"Já trabalhou com a vítima? \",\"Telefonou para a vítima? \",\"Esteve no local do crime? \",\n",
    "           \"Devia para a vítima? \"]\n",
    "ponto= 0 \n",
    "resposta= \" \"\n",
    "for pergunta in perguntas:\n",
    "    while resposta not in {\"SIM\",\"NÃO\"}:\n",
    "        print(\"Responda SIM ou NÃO\")\n",
    "        resposta = input(pergunta).upper()\n",
    "    if resposta == \"SIM\":\n",
    "        ponto+=1\n",
    "    resposta=\" \"\n",
    "    clear_output()\n",
    "if ponto==5:\n",
    "    print(\"O suspeito é assassino. Pontuação: \", ponto)\n",
    "elif ponto>=3 and ponto <=4:\n",
    "    print(\"O suspeito é cúmplice. Pontuação: \",ponto)\n",
    "elif ponto==2:\n",
    "    print(\"Apenas suspeito. Pontuação: \",ponto)\n",
    "else:\n",
    "    print(\"Liberado. Pontuação: \",ponto)"
   ]
  },
  {
   "cell_type": "markdown",
   "metadata": {},
   "source": [
    "## Questão #3\n",
    "### Enunciado\n",
    "Um produto vai sofrer aumento de acordo com a Tabela 1 abaixo. Faça um programa que peça para o usuário digitar o valor do produto de acordo com o preço antigo e escreva uma das mensagens da Tabela 2, de acordo com o preço reajustado:\n",
    "\n",
    "Tabela 1\n",
    "\n",
    "Preço Antigo\t% de aumento  \n",
    "Até 50 reais\t5%  \n",
    "Entre 50 e 100 reais\t10%  \n",
    "De 100 a 150 reais\t13%  \n",
    "Acima de 150 reais\t15%  \n",
    "\n",
    "Tabela 2\n",
    "\n",
    "Preço Novo\tMensagem  \n",
    "Até 80 reais\tBarato  \n",
    "Entre 80 e 115 reais\tRazoável  \n",
    "Entre 115 e 150 reais\tNormal  \n",
    "Entre 150 e 170 reais\tCaro  \n",
    "Acima de 170 reais\tMuito Caro  \n"
   ]
  },
  {
   "cell_type": "code",
   "execution_count": 81,
   "metadata": {},
   "outputs": [
    {
     "name": "stdout",
     "output_type": "stream",
     "text": [
      "Digite o preço antigo: 80\n",
      "Razoável\n",
      "88.0\n"
     ]
    }
   ],
   "source": [
    "preco_antigo   = float(input(\"Digite o preço antigo: \"))\n",
    "while preco_antigo<0:\n",
    "    print(\"Digite um valor maior que zero!\")\n",
    "    preco_antigo   = float(input(\"Digite o preço antigo: \"))\n",
    "if preco_antigo <=50:\n",
    "    preco_novo = preco_antigo*1.05\n",
    "elif preco_antigo>50 and preco_antigo<=100:\n",
    "    preco_novo = preco_antigo*1.10\n",
    "elif preco_antigo>100 and preco_antigo<=150:\n",
    "    preco_novo = preco_antigo*1.13\n",
    "else:\n",
    "    preco_novo = preco_antigo*1.15\n",
    "    \n",
    "if preco_novo<=80:\n",
    "    print(\"Barato\")\n",
    "elif preco_novo>80 and preco_novo<=115:\n",
    "    print(\"Razoável\")\n",
    "elif preco_novo>115 and preco_novo<=150:\n",
    "    print(\"Normal\")\n",
    "elif preco_novo>150 and preco_novo<=170:\n",
    "    print(\"Caro\")\n",
    "else:\n",
    "    print(\"Muito Caro\")\n"
   ]
  },
  {
   "cell_type": "markdown",
   "metadata": {},
   "source": [
    "## Questão #9\n",
    "### Enunciado\n",
    "Desafio 1 - Faça um programa que leia 3 números e informe o maior deles."
   ]
  },
  {
   "cell_type": "code",
   "execution_count": 86,
   "metadata": {
    "ExecuteTime": {
     "end_time": "2021-06-12T01:58:18.523636Z",
     "start_time": "2021-06-12T01:58:13.234810Z"
    }
   },
   "outputs": [
    {
     "name": "stdout",
     "output_type": "stream",
     "text": [
      "Informe o primeiro número: 1\n",
      "Informe o segundo número: 3\n",
      "Informe o terceiro número: 1\n",
      "Não informar números iguais!\n",
      "Informe o primeiro número: 1\n",
      "Informe o segundo número: 2\n",
      "Informe o terceiro número: 3\n",
      "O maior número é:  3.0\n"
     ]
    }
   ],
   "source": [
    "a = float(input(\"Informe o primeiro número: \"))\n",
    "b = float(input(\"Informe o segundo número: \"))\n",
    "c = float(input(\"Informe o terceiro número: \"))\n",
    "while a==b or b==c or a==c:\n",
    "    print(\"Não informar números iguais!\")\n",
    "    a = float(input(\"Informe o primeiro número: \"))\n",
    "    b = float(input(\"Informe o segundo número: \"))\n",
    "    c = float(input(\"Informe o terceiro número: \"))\n",
    "\n",
    "if a>b:\n",
    "    if a>c:\n",
    "         maior = a\n",
    "    else:\n",
    "        maior = c\n",
    "else:\n",
    "    if b>c:\n",
    "        maior = b\n",
    "    else:\n",
    "        maior = c\n",
    "print(\"O maior número é: \", maior)"
   ]
  },
  {
   "cell_type": "code",
   "execution_count": null,
   "metadata": {},
   "outputs": [],
   "source": []
  },
  {
   "cell_type": "markdown",
   "metadata": {
    "ExecuteTime": {
     "end_time": "2021-06-13T23:15:25.913760Z",
     "start_time": "2021-06-13T23:15:25.893769Z"
    }
   },
   "source": [
    "## Questão #10\n",
    "###Enunciado\n",
    "Desafio 2 - Faça o mesmo programa do exercício anterior, porém com 4 números."
   ]
  },
  {
   "cell_type": "code",
   "execution_count": 17,
   "metadata": {
    "ExecuteTime": {
     "end_time": "2021-06-13T23:32:41.768189Z",
     "start_time": "2021-06-13T23:32:31.058978Z"
    }
   },
   "outputs": [
    {
     "name": "stdout",
     "output_type": "stream",
     "text": [
      "Informe o primeiro número: 1\n",
      "Informe o segundo número: 2\n",
      "Informe o terceiro número: 3\n",
      "Informe o quarto número: 2\n",
      "Não informar números iguais!\n",
      "Informe o primeiro número: 1\n",
      "Informe o segundo número: 2\n",
      "Informe o terceiro número: 3\n",
      "Informe o quarto número: 4\n",
      "O maior número é:  4.0\n"
     ]
    }
   ],
   "source": [
    "a = float(input(\"Informe o primeiro número: \"))\n",
    "b = float(input(\"Informe o segundo número: \"))\n",
    "c = float(input(\"Informe o terceiro número: \"))\n",
    "d = float(input(\"Informe o quarto número: \"))\n",
    "while a==b or b==c or a==c or a==d or d==b or d==c:\n",
    "    print(\"Não informar números iguais!\")\n",
    "    a = float(input(\"Informe o primeiro número: \"))\n",
    "    b = float(input(\"Informe o segundo número: \"))\n",
    "    c = float(input(\"Informe o terceiro número: \"))\n",
    "    d = float(input(\"Informe o quarto número: \"))\n",
    "\n",
    "if a>b:\n",
    "    maior=a\n",
    "else:\n",
    "    maior=b\n",
    "if maior<c:\n",
    "    maior=c\n",
    "if maior<d:\n",
    "    maior=d\n",
    "print(\"O maior número é: \", maior)"
   ]
  },
  {
   "cell_type": "markdown",
   "metadata": {},
   "source": [
    "## Questão #11\n",
    "## Enunciado\n",
    "Desafio 3 - Um hospital quer fazer o diagnóstico de gripe ou dengue a partir de um questionário de sintomas, tendo as perguntas abaixo, faça um programa que faça o diagnóstico deste hospital:  \n",
    "\n",
    "a. Sente dor no corpo?  \n",
    "\n",
    "b. Você tem febre?  \n",
    "\n",
    "c. Você tem tosse?  \n",
    "\n",
    "d. Está com congestão nasal?  \n",
    "\n",
    "e. Tem manchas pelo corpo?  \n",
    "\n",
    "Para o diagnóstico ele tem a seguinte tabela:  \n",
    "\n",
    "|  A  |  B\t|  C  |  D\t|  E  | Resultado\n",
    "|  -  |  -  |  -  |  -  |  -  | :---------:\n",
    "| Sim |\tSim\t| Não |\tNão\t| Sim |\tDengue\n",
    "| Sim |\tSim\t| Sim |\tSim\t| Não |\tGripe\n",
    "| Não |\tSim\t| Sim |\tSim\t| Não |\tGripe\n",
    "| Sim |\tNão\t| Não |\tNão\t| Não |\tSem doenças\n",
    "| Não |\tNão\t| Não |\tNão\t| Não |\tSem doenças\n",
    "\n",
    "\n",
    "|  1  |  2\t|  3  |  4\t|  5  | Resultado\n",
    "|  -  |  -  |  -  |  -  |  -  | :---------:\n",
    "|  1  |\t 2\t|  0  |\t 0\t|  5  |\t8\n",
    "|  1  |\t 2\t|  3  |\t 4\t|  0  |\t10\n",
    "|  0  |\t 2\t|  3  |\t 4\t|  0  |\t9\n",
    "|  1  |\t 0\t|  0  |\t 0\t|  0  |\t1\n",
    "|  0  |\t 0\t|  0  |\t 0\t|  0  |\t0 "
   ]
  },
  {
   "cell_type": "code",
   "execution_count": 22,
   "metadata": {
    "ExecuteTime": {
     "end_time": "2021-06-13T23:52:49.883819Z",
     "start_time": "2021-06-13T23:52:45.689639Z"
    }
   },
   "outputs": [
    {
     "name": "stdout",
     "output_type": "stream",
     "text": [
      "Sua doença é Dengue\n"
     ]
    }
   ],
   "source": [
    "from IPython.display import clear_output\n",
    "\n",
    "print(\"Responda as perguntas abaixo com sim ou não!\")\n",
    "perguntas =[\"Sente dor no corpo? \",\"Você tem febre?\",\"Você tem tosse?\",\"Está com congestão nasal?\",\"Tem manchas pelo corpo?\"]\n",
    "ponto= 0 \n",
    "ordem = 1\n",
    "resposta= \" \"\n",
    "for pergunta in perguntas:\n",
    "    while resposta not in {\"SIM\",\"NÃO\"}:\n",
    "        print(\"Responda SIM ou NÃO\")\n",
    "        resposta = input(pergunta).upper()\n",
    "    if resposta == \"SIM\":\n",
    "        ponto+=1*ordem\n",
    "    resposta=\" \"\n",
    "    ordem+=1\n",
    "    clear_output()\n",
    "if ponto==8:\n",
    "    print(\"Sua doença é Dengue\")\n",
    "elif ponto==10:\n",
    "    print(\"Sua doença é Gripe\")\n",
    "elif ponto==9:\n",
    "    print(\"Sua doença é Gripe\")\n",
    "elif ponto==1:\n",
    "    print(\"Você não possui doenças\")\n",
    "elif ponto==0:\n",
    "    print(\"Você não possui doenças\")\n",
    "else:\n",
    "    print(\"Teste inconclusivo\")\n"
   ]
  },
  {
   "cell_type": "markdown",
   "metadata": {},
   "source": [
    "# LC | While\n",
    "## Questão #1\n",
    "\n",
    "### Enunciado\n",
    "Faça um programa que peça ao usuário um número e imprima todos os números de um até o número dado.\n",
    "Exemplo:  \n",
    "digite: 5  \n",
    "imprime: 1 2 3 4 5  "
   ]
  },
  {
   "cell_type": "code",
   "execution_count": 32,
   "metadata": {
    "ExecuteTime": {
     "end_time": "2021-06-13T23:58:13.526647Z",
     "start_time": "2021-06-13T23:58:11.930197Z"
    }
   },
   "outputs": [
    {
     "name": "stdout",
     "output_type": "stream",
     "text": [
      "Digite um número50\n",
      "1\n",
      "2\n",
      "3\n",
      "4\n",
      "5\n",
      "6\n",
      "7\n",
      "8\n",
      "9\n",
      "10\n",
      "11\n",
      "12\n",
      "13\n",
      "14\n",
      "15\n",
      "16\n",
      "17\n",
      "18\n",
      "19\n",
      "20\n",
      "21\n",
      "22\n",
      "23\n",
      "24\n",
      "25\n",
      "26\n",
      "27\n",
      "28\n",
      "29\n",
      "30\n",
      "31\n",
      "32\n",
      "33\n",
      "34\n",
      "35\n",
      "36\n",
      "37\n",
      "38\n",
      "39\n",
      "40\n",
      "41\n",
      "42\n",
      "43\n",
      "44\n",
      "45\n",
      "46\n",
      "47\n",
      "48\n",
      "49\n",
      "50\n"
     ]
    }
   ],
   "source": [
    "numero = int(input(\"Digite um número\"))\n",
    "for item in range(numero):\n",
    "    print(item+1)"
   ]
  },
  {
   "cell_type": "markdown",
   "metadata": {},
   "source": [
    "## Questão #2\n",
    "### Enunciado\n",
    "Peça ao usuário para digitar um número e imprima o fatorial de n."
   ]
  },
  {
   "cell_type": "code",
   "execution_count": 36,
   "metadata": {
    "ExecuteTime": {
     "end_time": "2021-06-14T00:01:21.854427Z",
     "start_time": "2021-06-14T00:01:20.202439Z"
    }
   },
   "outputs": [
    {
     "name": "stdout",
     "output_type": "stream",
     "text": [
      "Digite um número10\n",
      "3628800\n"
     ]
    }
   ],
   "source": [
    "numero = int(input(\"Digite um número\"))\n",
    "resultado=1\n",
    "for item in range(numero):\n",
    "        resultado = resultado * (item+1)\n",
    "print(resultado)"
   ]
  },
  {
   "cell_type": "markdown",
   "metadata": {},
   "source": [
    "## Questão #3\n",
    "### Enunciado\n",
    "Peça ao usuário para digitar um número N e some todos os números de 1 a N utilizando o laço de repetição while."
   ]
  },
  {
   "cell_type": "code",
   "execution_count": 41,
   "metadata": {
    "ExecuteTime": {
     "end_time": "2021-06-14T00:05:14.968758Z",
     "start_time": "2021-06-14T00:05:13.778764Z"
    }
   },
   "outputs": [
    {
     "name": "stdout",
     "output_type": "stream",
     "text": [
      "Digite um número: 2\n",
      "O resutado é:  3\n"
     ]
    }
   ],
   "source": [
    "numero = int(input(\"Digite um número: \"))\n",
    "i = 1\n",
    "resultado=0\n",
    "while i<=numero:\n",
    "    resultado+=i\n",
    "    i+=1\n",
    "print(\"O resutado é: \", resultado)"
   ]
  },
  {
   "cell_type": "markdown",
   "metadata": {},
   "source": [
    "## Questão #4\n",
    "### Enunciado\n",
    "Faça um programa que imprima a tabuada do 9 (de 9 * 1 a 9 * 10) usando loops."
   ]
  },
  {
   "cell_type": "code",
   "execution_count": 42,
   "metadata": {
    "ExecuteTime": {
     "end_time": "2021-06-14T00:07:33.554051Z",
     "start_time": "2021-06-14T00:07:33.539061Z"
    }
   },
   "outputs": [
    {
     "name": "stdout",
     "output_type": "stream",
     "text": [
      "9\n",
      "18\n",
      "27\n",
      "36\n",
      "45\n",
      "54\n",
      "63\n",
      "72\n",
      "81\n",
      "90\n"
     ]
    }
   ],
   "source": [
    "i = 0\n",
    "while i <=9:\n",
    "    i+=1\n",
    "    print(9*i)"
   ]
  },
  {
   "cell_type": "markdown",
   "metadata": {},
   "source": [
    "## Questão # 5\n",
    "### Enunciado\n",
    "Faça um programa que recebe um número inteiro do usuário e imprime na tela a quantidade de divisores desse número e quais são eles."
   ]
  },
  {
   "cell_type": "code",
   "execution_count": 54,
   "metadata": {
    "ExecuteTime": {
     "end_time": "2021-06-14T00:16:50.481459Z",
     "start_time": "2021-06-14T00:16:49.434157Z"
    }
   },
   "outputs": [
    {
     "name": "stdout",
     "output_type": "stream",
     "text": [
      "Digite um número: 100\n",
      "O total de divisóres são:  9 \n",
      "E os divisores são: 1,2,4,5,10,20,25,50,100\n"
     ]
    }
   ],
   "source": [
    "numero = int(input(\"Digite um número: \"))\n",
    "i = 1\n",
    "count = 0\n",
    "divisores = \"\"\n",
    "while i <=numero:\n",
    "    if(numero%i==0):\n",
    "        count +=1\n",
    "        divisores += str(i)+\",\" \n",
    "    i+=1\n",
    "print(\"O total de divisóres são: \",count,\"\\nE os divisores são:\", divisores[:-1])"
   ]
  },
  {
   "cell_type": "markdown",
   "metadata": {},
   "source": [
    "## Questão $6\n",
    "### Enunciado\n",
    "Faça um programa, usando loops, que peça para um usuário digitar um número   \n",
    "e que só finaliza quando o usuário digitar 0. Ao final imprima a soma de todos os números digitados."
   ]
  },
  {
   "cell_type": "code",
   "execution_count": 63,
   "metadata": {
    "ExecuteTime": {
     "end_time": "2021-06-14T00:21:22.198970Z",
     "start_time": "2021-06-14T00:21:17.418918Z"
    }
   },
   "outputs": [
    {
     "name": "stdout",
     "output_type": "stream",
     "text": [
      "Digite um numero: 5\n",
      "Digite um numero: 5\n",
      "Digite um numero: 10\n",
      "Digite um numero: 0\n",
      "O resultado é:  20.0\n"
     ]
    }
   ],
   "source": [
    "numero=1\n",
    "resultado=0\n",
    "while numero!=0:\n",
    "    numero=float(input(\"Digite um numero: \"))\n",
    "    resultado+=numero\n",
    "print(\"O resultado é: \",resultado)"
   ]
  },
  {
   "cell_type": "markdown",
   "metadata": {},
   "source": [
    "## Questão #7\n",
    "### Enunciado\n",
    "Faça um programa que sorteia um número N e peça para o usuário adivinhar o número sorteado. A cada resposta errada, o seu programa deve imprimir um aviso dizendo que a resposta está errada e pedir novamente uma resposta ao usuário.\n",
    "\n",
    "Para a realização desse exercício, utilize alguma função da biblioteca random (e.g. randint())."
   ]
  },
  {
   "cell_type": "code",
   "execution_count": 65,
   "metadata": {
    "ExecuteTime": {
     "end_time": "2021-06-14T00:28:00.466443Z",
     "start_time": "2021-06-14T00:27:42.281504Z"
    }
   },
   "outputs": [
    {
     "name": "stdout",
     "output_type": "stream",
     "text": [
      "Digite um número: 10\n",
      "O numero sorteado é maior sua resposta\n",
      "Digite um número: 15\n",
      "O numero sorteado é maior sua resposta\n",
      "Digite um número: 50\n",
      "O numero sorteado é maior sua resposta\n",
      "Digite um número: 60\n",
      "O numero sorteado é maior sua resposta\n",
      "Digite um número: 70\n",
      "O numero sorteado é maior sua resposta\n",
      "Digite um número: 80\n",
      "O numero sorteado é maior sua resposta\n",
      "Digite um número: 90\n",
      "O numero sorteado é menor esposta\n",
      "Digite um número: 85\n",
      "O numero sorteado é menor esposta\n",
      "Digite um número: 84\n",
      "O numero sorteado é menor esposta\n",
      "Digite um número: 83\n",
      "O numero sorteado é menor esposta\n",
      "Digite um número: 82\n",
      "Parabéns você acertou o numero\n"
     ]
    }
   ],
   "source": [
    "import random\n",
    "sorteado = random.randint(1,100)\n",
    "reposta = 0\n",
    "while resposta!=sorteado:\n",
    "    resposta = int(input(\"Digite um número: \"))\n",
    "    if(sorteado==resposta):\n",
    "        print(\"Parabéns você acertou o numero\")\n",
    "    elif(sorteado>resposta):\n",
    "        print(\"O numero sorteado é maior sua resposta\")\n",
    "    else:\n",
    "        print(\"O numero sorteado é menor esposta\")"
   ]
  },
  {
   "cell_type": "markdown",
   "metadata": {
    "ExecuteTime": {
     "end_time": "2021-06-14T00:40:12.974770Z",
     "start_time": "2021-06-14T00:40:12.967771Z"
    }
   },
   "source": [
    "## Questão #8\n",
    "### Enunciado\n",
    "\n",
    "Faça um programa que peça para o usuário digitar a idade, o salário e o sexo de uma pessoa até que as entradas digitadas sejam válidas.\n",
    "\n",
    "a. Idade: entre 0 e 150;\n",
    "\n",
    "b. Salário: maior que 0;\n",
    "\n",
    "c. Sexo: M, F ou Outro.\n"
   ]
  },
  {
   "cell_type": "code",
   "execution_count": null,
   "metadata": {},
   "outputs": [],
   "source": [
    "idade = int(input(\"Qual é a sua idade? \"))\n",
    "while idade<0 or idade>150:\n",
    "    print(\"Digite uma idade entre 0 e 150 anos\")\n",
    "    idade = int(input(\"Qual é a sua idade? \"))\n",
    "salario = float(input(\"Qual é o seu salário? \"))\n",
    "while salario<=0:\n",
    "    print(\"Digite um salario maior que 0! \")\n",
    "    salario = float(input(\"Qual é o seu salário? \"))\n",
    "sexo = input(\"Qual é o seu Sexo? \")\n",
    "while sexo not in {\"M\",\"F\",\"OUTRO\"}:\n",
    "    print(\"Opções válidas: M, F ou OUTRO\")\n",
    "    sexo = input(\"Qual o seu sexo? \")"
   ]
  },
  {
   "cell_type": "markdown",
   "metadata": {},
   "source": [
    "## Questão #9\n",
    "### Enunciado\n",
    "Desafio! - Calcule a soma de até mil termos da série 1 + 1/2 + 1/4 + 1/8 + 1/16 + ...\n",
    "\n",
    "Dica: Use três variáveis:\n",
    "\n",
    "• um contador, que começa em zero;\n",
    "\n",
    "• uma variável para a soma de todos os termos, que também começa em zero;\n",
    "\n",
    "• uma variável para cada termo, que começa em 1 e a cada loop é dividida por 2.\n",
    "\n",
    "A repetição da soma de mil termos pode ser feita com a função while contador < 1000."
   ]
  },
  {
   "cell_type": "code",
   "execution_count": null,
   "metadata": {
    "ExecuteTime": {
     "end_time": "2021-06-14T00:56:01.048870Z",
     "start_time": "2021-06-14T00:56:00.939525Z"
    }
   },
   "outputs": [],
   "source": [
    "contador = 0\n",
    "soma_termo = 0\n",
    "termo = 1\n",
    "while contador<1000:\n",
    "    soma_termo+=termo\n",
    "    termo=termo/2\n",
    "    contador+=1\n",
    "print(\"O resultado da soma é: \",soma_termo)"
   ]
  },
  {
   "cell_type": "markdown",
   "metadata": {},
   "source": [
    "## Questão #10\n",
    "### Enunciado\n",
    "Super Desafio! - Calcule a soma de mil termos dos inversos dos fatoriais: 1/(1!) + 1/(2!) + 1/(3!) + 1/(4!) + ...\n",
    "\n",
    "Dica: Assim como no exercício anterior use três variáveis: um contador; uma variável para a soma; e uma variável para os termos. Lembre-se de que 4! = 4 * 3 * 2 * 1 que também é igual a 4 * 3!."
   ]
  },
  {
   "cell_type": "code",
   "execution_count": 84,
   "metadata": {
    "ExecuteTime": {
     "end_time": "2021-06-14T01:05:58.026218Z",
     "start_time": "2021-06-14T01:05:58.013256Z"
    }
   },
   "outputs": [
    {
     "name": "stdout",
     "output_type": "stream",
     "text": [
      "O resultado da soma é:  1.7182818284590455\n"
     ]
    }
   ],
   "source": [
    "contador = 0\n",
    "soma_termo = 0\n",
    "termo = 1\n",
    "while contador<1000:\n",
    "    termo=(contador+1)*termo\n",
    "    soma_termo+=1/termo\n",
    "    contador+=1\n",
    "print(\"O resultado da soma é: \",soma_termo)"
   ]
  }
 ],
 "metadata": {
  "kernelspec": {
   "display_name": "Python 3",
   "language": "python",
   "name": "python3"
  },
  "language_info": {
   "codemirror_mode": {
    "name": "ipython",
    "version": 3
   },
   "file_extension": ".py",
   "mimetype": "text/x-python",
   "name": "python",
   "nbconvert_exporter": "python",
   "pygments_lexer": "ipython3",
   "version": "3.9.5"
  }
 },
 "nbformat": 4,
 "nbformat_minor": 4
}
