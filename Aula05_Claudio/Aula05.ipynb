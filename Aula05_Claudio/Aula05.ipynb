{
 "cells": [
  {
   "cell_type": "markdown",
   "metadata": {},
   "source": [
    "## Questão #1\n",
    "### Enunciado\n",
    "Crie uma lista qualquer e faça um programa que imprima cada elemento da lista usando o for."
   ]
  },
  {
   "cell_type": "code",
   "execution_count": 1,
   "metadata": {
    "ExecuteTime": {
     "end_time": "2021-06-16T22:29:06.078787Z",
     "start_time": "2021-06-16T22:29:06.068647Z"
    }
   },
   "outputs": [
    {
     "name": "stdout",
     "output_type": "stream",
     "text": [
      "CRUZEIRO\n",
      "ATLETICO\n",
      "FLAMENGO\n",
      "PALMEIRAS\n"
     ]
    }
   ],
   "source": [
    "times = ['CRUZEIRO','ATLETICO','FLAMENGO','PALMEIRAS']\n",
    "for time in times:\n",
    "    print(time)"
   ]
  },
  {
   "cell_type": "markdown",
   "metadata": {
    "ExecuteTime": {
     "end_time": "2021-06-16T22:30:51.043771Z",
     "start_time": "2021-06-16T22:30:51.034766Z"
    }
   },
   "source": [
    "## Questão #2\n",
    "\n",
    "### Enunciado\n",
    "Faça um programa que imprima todos os itens de uma lista usando while e compare com o exercício 1."
   ]
  },
  {
   "cell_type": "code",
   "execution_count": 6,
   "metadata": {
    "ExecuteTime": {
     "end_time": "2021-06-16T22:32:39.843029Z",
     "start_time": "2021-06-16T22:32:39.835432Z"
    }
   },
   "outputs": [
    {
     "name": "stdout",
     "output_type": "stream",
     "text": [
      "CRUZEIRO\n",
      "ATLETICO\n",
      "FLAMENGO\n",
      "PALMEIRAS\n"
     ]
    }
   ],
   "source": [
    "times = ['CRUZEIRO','ATLETICO','FLAMENGO','PALMEIRAS']\n",
    "i = 0 \n",
    "while i < len(times):\n",
    "    print(times[i])\n",
    "    i+=1"
   ]
  },
  {
   "cell_type": "markdown",
   "metadata": {},
   "source": [
    "## Questão #3\n",
    "### Enunciado\n",
    "Faça um programa que peça para o usuário digitar um número n e imprima uma lista com todos os números de 0 a n-1.\n",
    "\n",
    "Exemplo: se o usuário digitar 5, o programa deve imprimir [0, 1, 2, 3, 4]"
   ]
  },
  {
   "cell_type": "code",
   "execution_count": 11,
   "metadata": {
    "ExecuteTime": {
     "end_time": "2021-06-16T22:36:39.570016Z",
     "start_time": "2021-06-16T22:36:38.002478Z"
    }
   },
   "outputs": [
    {
     "name": "stdout",
     "output_type": "stream",
     "text": [
      "Digite um número: 5\n",
      "[0, 1, 2, 3, 4]\n"
     ]
    }
   ],
   "source": [
    "numero = int(input(\"Digite um número: \"))\n",
    "i = 0\n",
    "resultado = []\n",
    "while i < numero:\n",
    "    resultado.append(i)\n",
    "    i+=1\n",
    "print(resultado)"
   ]
  },
  {
   "cell_type": "markdown",
   "metadata": {},
   "source": [
    "## Questão #4\n",
    "### Enunciado\n",
    "Faça um programa que olhe todos os itens de uma lista e diga quantos deles são pares."
   ]
  },
  {
   "cell_type": "code",
   "execution_count": 22,
   "metadata": {
    "ExecuteTime": {
     "end_time": "2021-06-16T22:44:08.220875Z",
     "start_time": "2021-06-16T22:44:08.216875Z"
    }
   },
   "outputs": [
    {
     "name": "stdout",
     "output_type": "stream",
     "text": [
      "A quantidade de números pares é: 5\n",
      "[0, 2, 4, 6, 8]\n"
     ]
    }
   ],
   "source": [
    "lista =list(range(10))\n",
    "i = 0\n",
    "resultado = []\n",
    "while i<len(lista):\n",
    "    if lista[i]%2==0:\n",
    "        resultado.append(lista[i])\n",
    "    i+=1\n",
    "print(\"A quantidade de números pares é:\", len(resultado))\n",
    "print(resultado)"
   ]
  },
  {
   "cell_type": "markdown",
   "metadata": {},
   "source": [
    "## Questão #5\n",
    "### Enunciado\n",
    "Faça um programa que imprima o maior número de uma lista, sem usar a função max()."
   ]
  },
  {
   "cell_type": "code",
   "execution_count": 39,
   "metadata": {
    "ExecuteTime": {
     "end_time": "2021-06-16T22:53:51.806999Z",
     "start_time": "2021-06-16T22:53:51.802002Z"
    }
   },
   "outputs": [
    {
     "name": "stdout",
     "output_type": "stream",
     "text": [
      "[74, 19, 52, 58, 16, 20, 10, 77, 56, 34, 60, 96, 31, 70, 63, 11, 15, 44, 18, 12, 91, 21, 90, 82, 85, 39, 62, 89, 9, 36, 71, 46, 80, 24, 95, 92, 65, 2, 50, 49, 3, 53, 86, 40, 27, 28, 37, 75, 81, 7]\n",
      "96\n"
     ]
    }
   ],
   "source": [
    "import random\n",
    "lista = list(random.sample(range(1,100),50))\n",
    "i=1\n",
    "maior=0\n",
    "print(lista)\n",
    "while i<len(lista):\n",
    "    if lista[i]>lista[i-1] and lista[i]>maior:\n",
    "        maior=lista[i]\n",
    "    i+=1\n",
    "print(maior)"
   ]
  },
  {
   "cell_type": "markdown",
   "metadata": {},
   "source": [
    "## Questão #6\n",
    "### Enunciado\n",
    "Agora usando a função max() faça um programa que imprima os três maiores números de uma lista.\n",
    "Dica: Use o método próprio de listas .remove()."
   ]
  },
  {
   "cell_type": "code",
   "execution_count": 45,
   "metadata": {
    "ExecuteTime": {
     "end_time": "2021-06-16T22:58:46.774717Z",
     "start_time": "2021-06-16T22:58:46.769795Z"
    }
   },
   "outputs": [
    {
     "name": "stdout",
     "output_type": "stream",
     "text": [
      "[67, 1, 38, 50, 57, 97, 33, 96, 26, 56, 15, 6, 65, 14, 21, 76, 43, 20, 16, 93, 42, 52, 28, 85, 99, 61, 69, 4, 80, 58, 84, 5, 63, 23, 31, 44, 13, 95, 32, 49, 92, 90, 64, 25, 34, 91, 98, 48, 72, 86]\n",
      "O  1 º maior número é: 99\n",
      "O  2 º maior número é: 98\n",
      "O  3 º maior número é: 97\n"
     ]
    }
   ],
   "source": [
    "import random\n",
    "lista = list(random.sample(range(1,100),50))\n",
    "i=1\n",
    "maior=0\n",
    "print(lista)\n",
    "while i<=3:\n",
    "    print(\"O \",i,\"º maior número é:\", max(lista))\n",
    "    lista.remove(max(lista))\n",
    "    i+=1"
   ]
  },
  {
   "cell_type": "markdown",
   "metadata": {},
   "source": [
    "## Questão #7\n",
    "### Enunciado\n",
    "Faça um programa que, dadas duas listas de mesmo tamanho, crie uma nova lista com cada elemento igual a soma dos elementos da lista 1 com os da lista 2, na mesma posição.\n",
    "\n",
    "Exemplo:\n",
    "\n",
    "Dadas lista1 = [1, 4, 5] e lista2 = [2, 2, 3], então lista3 = [1+2, 4+2, 5+3] = [3, 6, 8]"
   ]
  },
  {
   "cell_type": "code",
   "execution_count": 50,
   "metadata": {
    "ExecuteTime": {
     "end_time": "2021-06-16T23:04:44.884753Z",
     "start_time": "2021-06-16T23:04:44.880751Z"
    }
   },
   "outputs": [
    {
     "name": "stdout",
     "output_type": "stream",
     "text": [
      "[3, 6, 8]\n"
     ]
    }
   ],
   "source": [
    "lista1 = [1,4,5]\n",
    "lista2 = [2,2,3]\n",
    "i=0\n",
    "resultado = []\n",
    "while i<len(lista1):\n",
    "    resultado.append(lista1[i]+lista2[i])\n",
    "    i+=1\n",
    "print(resultado)"
   ]
  },
  {
   "cell_type": "markdown",
   "metadata": {},
   "source": [
    "## Questão #8\n",
    "### Enunciado\n",
    "Faça um programa que dadas duas listas de mesmo tamanho, imprima o produto escalar entre elas.\n",
    "OBS: produto escalar é a soma do resultado da multiplicação entre o número na posição i da lista1  pelo número na posição i da lista2, com i variando de 0 ao tamanho da lista."
   ]
  },
  {
   "cell_type": "code",
   "execution_count": 58,
   "metadata": {
    "ExecuteTime": {
     "end_time": "2021-06-18T23:55:56.409766Z",
     "start_time": "2021-06-18T23:55:56.405758Z"
    }
   },
   "outputs": [
    {
     "name": "stdout",
     "output_type": "stream",
     "text": [
      "O resultado é:  14\n"
     ]
    }
   ],
   "source": [
    "lista1 = [3,4]\n",
    "lista2 = [-2,5]\n",
    "resultado = 0\n",
    "for i in range(len(lista1)):\n",
    "    resultado+=lista1[i]*lista2[i]\n",
    "print(\"O resultado é: \", resultado)"
   ]
  },
  {
   "cell_type": "markdown",
   "metadata": {
    "ExecuteTime": {
     "end_time": "2021-06-18T23:57:05.722670Z",
     "start_time": "2021-06-18T23:57:05.716628Z"
    }
   },
   "source": [
    "## Questão #9\n",
    "### Enunciado\n",
    "Faça um programa que pede para o usuário digitar 5 números e, ao final, imprime uma lista com os 5 números digitados pelo usuário (sem converter os números para int ou float).\n",
    "\n",
    "Exemplo: Se o usuário digitar 1, 5, 2, 3, 6, o programa deve imprimir a lista ['1','5','2','3','6']"
   ]
  },
  {
   "cell_type": "code",
   "execution_count": 66,
   "metadata": {
    "ExecuteTime": {
     "end_time": "2021-06-19T00:01:42.014129Z",
     "start_time": "2021-06-19T00:01:38.091906Z"
    }
   },
   "outputs": [
    {
     "name": "stdout",
     "output_type": "stream",
     "text": [
      "Digite o 1 numero1\n",
      "Digite o 2 numero2\n",
      "Digite o 3 numero3\n",
      "Digite o 4 numero4\n",
      "Digite o 5 numero5\n",
      "['1', '2', '3', '4', '5']\n"
     ]
    }
   ],
   "source": [
    "resultado = []\n",
    "i = 0\n",
    "for i in range(0,5):\n",
    "    numero = input(\"Digite o \"+str(i+1)+\" numero\")\n",
    "    resultado.append(numero)\n",
    "print(resultado)"
   ]
  },
  {
   "cell_type": "markdown",
   "metadata": {
    "ExecuteTime": {
     "end_time": "2021-06-19T00:02:52.826109Z",
     "start_time": "2021-06-19T00:02:52.820149Z"
    }
   },
   "source": [
    "## Questão #10\n",
    "### Enunciado\n",
    "Pegue a lista gerada no exercício anterior e transforme cada um dos itens dessa lista em um float.\n",
    "\n",
    "OBS: Não é para alterar o programa anterior, mas sim a lista gerada por ele."
   ]
  },
  {
   "cell_type": "code",
   "execution_count": 69,
   "metadata": {
    "ExecuteTime": {
     "end_time": "2021-06-19T00:04:51.869027Z",
     "start_time": "2021-06-19T00:04:49.559141Z"
    }
   },
   "outputs": [
    {
     "name": "stdout",
     "output_type": "stream",
     "text": [
      "Digite o 1 numero1\n",
      "Digite o 2 numero2\n",
      "Digite o 3 numero3\n",
      "Digite o 4 numero4\n",
      "Digite o 5 numero5\n",
      "['1', '2', '3', '4', '5']\n",
      "[1.0, 2.0, 3.0, 4.0, 5.0]\n"
     ]
    }
   ],
   "source": [
    "resultado = []\n",
    "i = 0\n",
    "for i in range(0,5):\n",
    "    numero = input(\"Digite o \"+str(i+1)+\" numero\")\n",
    "    resultado.append(numero)  \n",
    "print(resultado)\n",
    "resultado_float=[]\n",
    "for item in resultado:\n",
    "    resultado_float.append(float(item))\n",
    "print(resultado_float)    "
   ]
  },
  {
   "cell_type": "markdown",
   "metadata": {},
   "source": [
    "## Questão #11\n",
    "### Enunciado\n",
    "Faça um programa que peça as 4 notas bimestrais e mostre a média aritmética delas, usando listas.\n"
   ]
  },
  {
   "cell_type": "code",
   "execution_count": 72,
   "metadata": {
    "ExecuteTime": {
     "end_time": "2021-06-19T00:19:00.780621Z",
     "start_time": "2021-06-19T00:18:55.324439Z"
    }
   },
   "outputs": [
    {
     "name": "stdout",
     "output_type": "stream",
     "text": [
      "Quantidade de Notas: 5\n",
      "Digite a 1 nota: 5\n",
      "Digite a 2 nota: 5\n",
      "Digite a 3 nota: 5\n",
      "Digite a 4 nota: 5\n",
      "Digite a 5 nota: 5\n",
      "A média das notas é:  5.0\n"
     ]
    }
   ],
   "source": [
    "qtd = int(input(\"Quantidade de Notas: \" ))\n",
    "notas = []\n",
    "for i in range(0,qtd):\n",
    "    numero = float(input(\"Digite a \"+str(i+1)+\" nota: \"))\n",
    "    notas.append(numero)  \n",
    "media = sum(int(i) for i in notas)/qtd\n",
    "print(\"A média das notas é: \",media )"
   ]
  },
  {
   "cell_type": "markdown",
   "metadata": {},
   "source": [
    "## Questão #12\n",
    "### Enunciado\n",
    "Sorteie uma lista de 10 números e imprima:\n",
    "\n",
    "a. uma lista com os 4 primeiros números;  \n",
    "b. uma lista com os 5 últimos números;  \n",
    "c. uma lista contendo apenas os elementos das posições pares;  \n",
    "d. uma lista contendo apenas os elementos das posições ímpares;  \n",
    "e. a lista inversa da lista sorteada (isto é, uma lista que começa com o último elemento da lista sorteada e termina com o primeiro);  \n",
    "f. uma lista inversa dos 5 primeiros números;  \n",
    "g. uma lista inversa dos 5 últimos números.  "
   ]
  },
  {
   "cell_type": "code",
   "execution_count": 95,
   "metadata": {
    "ExecuteTime": {
     "end_time": "2021-06-19T00:48:23.840284Z",
     "start_time": "2021-06-19T00:48:23.830285Z"
    }
   },
   "outputs": [
    {
     "name": "stdout",
     "output_type": "stream",
     "text": [
      "Lista Geral:  [55, 56, 52, 2, 21, 22, 76, 18, 61, 14]\n",
      "Lista Ordenada:  [2, 14, 18, 21, 22, 52, 55, 56, 61, 76]\n",
      "Lista com os 4 primeiros números:  [2, 14, 18, 21]\n",
      "Uma lista com os 5 últimos números: [55, 56, 61, 76]\n",
      "Lista contendo apenas os elementos das posições pares:  [2, 14, 18, 22, 52, 56, 76]\n",
      "Lista contendo apenas os elementos das posições ímpares:  [21, 55, 61]\n",
      "Lista invertida:  [14, 61, 18, 76, 22, 21, 2, 52, 56, 55]\n",
      "Lista inversa dos 5 primeiros números:  [14, 61, 18, 76]\n",
      "Lista inversa dos 5 últimos números:  [2, 52, 56, 55]\n"
     ]
    }
   ],
   "source": [
    "import random\n",
    "lista = list(random.sample(range(1,100),10))\n",
    "lista_original = lista[:]\n",
    "print(\"Lista Geral: \",lista)\n",
    "lista.sort()\n",
    "print(\"Lista Ordenada: \", lista)\n",
    "print(\"Lista com os 4 primeiros números: \",lista[:4])\n",
    "print(\"Uma lista com os 5 últimos números:\",lista[-4:])\n",
    "print(\"Lista contendo apenas os elementos das posições pares: \",[i for i in lista if i%2==0])\n",
    "print(\"Lista contendo apenas os elementos das posições ímpares: \", [i for i in lista if i%2!=0])\n",
    "lista_original.reverse()\n",
    "print(\"Lista invertida: \", lista_original)\n",
    "print(\"Lista inversa dos 5 primeiros números: \",lista_original[:4])\n",
    "print(\"Lista inversa dos 5 últimos números: \", lista_original[-4:])"
   ]
  },
  {
   "cell_type": "markdown",
   "metadata": {},
   "source": [
    "## Questão #13\n",
    "### Enunciado\n",
    "Faça um programa que sorteia 10 números entre 0 e 100 e conte quantos números sorteados são maiores que 50."
   ]
  },
  {
   "cell_type": "code",
   "execution_count": 100,
   "metadata": {
    "ExecuteTime": {
     "end_time": "2021-06-19T00:53:10.418877Z",
     "start_time": "2021-06-19T00:53:10.412872Z"
    }
   },
   "outputs": [
    {
     "name": "stdout",
     "output_type": "stream",
     "text": [
      "A lista geral é:  [41, 20, 57, 99, 68, 59, 17, 3, 23, 8]\n",
      "A quantidade maior do que 50 é : 6\n"
     ]
    }
   ],
   "source": [
    "import random\n",
    "lista = list(random.sample(range(1,100),10))\n",
    "print(\"A lista geral é: \",lista)\n",
    "lista_maior50 = [i for i in lista if i>50]\n",
    "\n",
    "print(\"A quantidade maior do que 50 é :\",len(quantidade))"
   ]
  },
  {
   "cell_type": "markdown",
   "metadata": {},
   "source": [
    "## Questão #14\n",
    "### Enunciado\n",
    "Faça um programa que sorteie 10 números entre 0 e 100 e imprima:\n",
    "\n",
    "a. o maior número sorteado;  \n",
    "\n",
    "b. o menor número sorteado;  \n",
    "\n",
    "c. a média dos números sorteados;  \n",
    "\n",
    "d. a soma dos números sorteados.  "
   ]
  },
  {
   "cell_type": "code",
   "execution_count": 108,
   "metadata": {
    "ExecuteTime": {
     "end_time": "2021-06-19T00:57:55.556380Z",
     "start_time": "2021-06-19T00:57:55.551416Z"
    }
   },
   "outputs": [
    {
     "name": "stdout",
     "output_type": "stream",
     "text": [
      " A lista sorteado é:  [57, 50, 97, 44, 87, 41, 17, 65, 19, 38]\n",
      " O maior número sorteado:  97\n",
      " O menor número sorteado: 17\n",
      " A média dos números sorteados: 103.0\n",
      " A soma dos números sorteados: 515\n"
     ]
    }
   ],
   "source": [
    "import random\n",
    "lista = list(random.sample(range(1,100),10))\n",
    "print(\" A lista sorteado é: \", lista)\n",
    "print(\" O maior número sorteado: \",max(lista))\n",
    "print(\" O menor número sorteado:\",min(lista))\n",
    "print(\" A média dos números sorteados:\",(sum(int(i) for i in lista)/qtd))\n",
    "print(\" A soma dos números sorteados:\",sum(lista))"
   ]
  },
  {
   "cell_type": "markdown",
   "metadata": {},
   "source": [
    "## Questão #15\n",
    "### Enunciado\n",
    "Desafio 1 - Faça um programa que peça para o usuário digitar o nome e a idade de um aluno e o número de provas que esse aluno fez. Depois, o programa deve pedir para o usuário digitar as notas de cada prova do aluno. Ao final o programa deve imprimir uma lista contendo:\n",
    "\n",
    "a. Nome do aluno na posição 0;  \n",
    "\n",
    "b. Idade do aluno na posição 1;  \n",
    "\n",
    "c. Uma lista com todas as notas na posição 2;  \n",
    "\n",
    "d. A média do aluno na posição 3;  \n",
    "\n",
    "e. True ou False, caso a média seja maior que 5 ou não, na posição 4.  \n",
    "\n",
    "Dica: Use o que você fez nos exercícios anteriores para criar esse programa.  "
   ]
  },
  {
   "cell_type": "code",
   "execution_count": 112,
   "metadata": {
    "ExecuteTime": {
     "end_time": "2021-06-19T01:07:27.345776Z",
     "start_time": "2021-06-19T01:07:16.477606Z"
    }
   },
   "outputs": [
    {
     "name": "stdout",
     "output_type": "stream",
     "text": [
      "Qual o nome do aluno: claudo\n",
      "Qual a idade do aluno: 40\n",
      "Quantas provas ele fez: 1\n",
      "Digite a 1 nota: 4\n",
      "claudo\n",
      "40\n",
      "[4.0]\n",
      "4.0\n",
      "False\n"
     ]
    }
   ],
   "source": [
    "nome = input(\"Qual o nome do aluno: \")\n",
    "idade = int(input(\"Qual a idade do aluno: \"))\n",
    "provas = int(input(\"Quantas provas ele fez: \"))\n",
    "notas = []\n",
    "for i in range(0,provas):\n",
    "    numero = float(input(\"Digite a \"+str(i+1)+\" nota: \"))\n",
    "    notas.append(numero)  \n",
    "media = sum(int(i) for i in notas)/provas\n",
    "resultado = []\n",
    "resultado.append(nome)\n",
    "resultado.append(idade)\n",
    "resultado.append(notas)\n",
    "resultado.append(media)\n",
    "resultado.append(media>5)\n",
    "for linha in resultado:\n",
    "    print(linha)"
   ]
  },
  {
   "cell_type": "markdown",
   "metadata": {},
   "source": [
    "## Questão #16\n",
    "### Enunciado\n",
    "Desafio 2 - Faça um programa como o do item anterior, porém que imprima a média sem considerar a maior e menor nota do aluno (nesse caso o número de provas precisa ser obrigatoriamente maior que dois).\n",
    "\n",
    "Dica: crie uma cópia com a lista de todas as notas antes de fazer a média."
   ]
  },
  {
   "cell_type": "code",
   "execution_count": 118,
   "metadata": {
    "ExecuteTime": {
     "end_time": "2021-06-19T01:13:10.425887Z",
     "start_time": "2021-06-19T01:12:39.323869Z"
    }
   },
   "outputs": [
    {
     "name": "stdout",
     "output_type": "stream",
     "text": [
      "Qual o nome do aluno: a\n",
      "Qual a idade do aluno: 1\n",
      "Quantas provas ele fez, digine no mínimo 3 notas4\n",
      "Digite a 1 nota: 2\n",
      "Digite a 2 nota: 2\n",
      "Digite a 3 nota: 3\n",
      "Digite a 4 nota: 3\n",
      "[2.0, 3.0]\n",
      "a\n",
      "1\n",
      "[2.0, 3.0]\n",
      "1.25\n",
      "False\n"
     ]
    }
   ],
   "source": [
    "nome = input(\"Qual o nome do aluno: \")\n",
    "idade = int(input(\"Qual a idade do aluno: \"))\n",
    "provas = 0\n",
    "while provas<=2:\n",
    "    provas = int(input(\"Quantas provas ele fez, digite no mínimo 3 provas: \"))\n",
    "notas = []\n",
    "for i in range(0,provas):\n",
    "    numero = float(input(\"Digite a \"+str(i+1)+\" nota: \"))\n",
    "    notas.append(numero)\n",
    "notas_original = notas[:]\n",
    "notas.remove(max(notas))\n",
    "notas.remove(min(notas))\n",
    "media = sum(int(i) for i in notas)/provas\n",
    "resultado = []\n",
    "resultado.append(nome)\n",
    "resultado.append(idade)\n",
    "resultado.append(notas)\n",
    "resultado.append(media)\n",
    "resultado.append(media>5)\n",
    "for linha in resultado:\n",
    "    print(linha)"
   ]
  },
  {
   "cell_type": "markdown",
   "metadata": {},
   "source": [
    "## Questão #17\n",
    "### Enunciado\n",
    "Desafio 3 - Faça um programa que pede para o usuário digitar o CPF e verifica se ele é válido.   \n",
    "Para isso, primeiramente o programa deve multiplicar cada um dos 9 primeiros dígitos do CPF pelos números de 10 a 2 e somar todas as respostas. O resultado deve ser multiplicado por 10 e dividido por 11. O resto dessa divisão deve ser igual ao primeiro dígito verificador (10º dígito). Em seguida, o programa deve multiplicar cada um dos 10 primeiros dígitos do CPF pelos números de 11 a 2 e repetir o procedimento anterior para verificar o segundo dígito verificador.\n",
    "\n",
    "Exemplo:\n",
    "\n",
    "Se o CPF for 286.255.878-87 o programa deve fazer primeiro:\n",
    "\n",
    "x = (2*10 + 8*9 + 6*8 + 2*7 + 5*6 + 5*5 + 8*4 + 7*3 + 8*2)\n",
    "\n",
    "Em seguida, o programa deve testar se x*10%11 == 8 (o décimo número do CPF). Se sim, o programa deve calcular:\n",
    "\n",
    "x = (2*11 + 8*10 + 6*9 + 2*8 + 5*7 + 5*6 + 8*5 + 7*4 + 8*3 + 8*2)\n",
    "\n",
    "e verificar se x*10%11 == 7 (o décimo primeiro número do CPF)."
   ]
  },
  {
   "cell_type": "code",
   "execution_count": null,
   "metadata": {},
   "outputs": [],
   "source": []
  },
  {
   "cell_type": "code",
   "execution_count": null,
   "metadata": {},
   "outputs": [],
   "source": []
  },
  {
   "cell_type": "markdown",
   "metadata": {},
   "source": [
    "## Questão #1\n",
    "### Enunciado\n",
    "Faça um programa que peça para o usuário digitar uma palavra e imprima cada letra em uma linha."
   ]
  },
  {
   "cell_type": "code",
   "execution_count": 2,
   "metadata": {
    "ExecuteTime": {
     "end_time": "2021-06-18T21:58:33.278826Z",
     "start_time": "2021-06-18T21:58:29.112828Z"
    }
   },
   "outputs": [
    {
     "name": "stdout",
     "output_type": "stream",
     "text": [
      "Digite uma palavra: carro azul\n",
      "c\n",
      "a\n",
      "r\n",
      "r\n",
      "o\n",
      " \n",
      "a\n",
      "z\n",
      "u\n",
      "l\n"
     ]
    }
   ],
   "source": [
    "palavra = input(\"Digite uma palavra: \")\n",
    "for letra in palavra:\n",
    "    print(letra)"
   ]
  },
  {
   "cell_type": "markdown",
   "metadata": {
    "ExecuteTime": {
     "end_time": "2021-06-18T21:59:48.682666Z",
     "start_time": "2021-06-18T21:59:48.676667Z"
    }
   },
   "source": [
    "## Questão #2\n",
    "### Enunciado\n",
    "Faça um programa que pede para o usuário digitar uma palavra e cria uma nova string igual, copiando letra por letra a palavra digitada, depois imprima a nova string."
   ]
  },
  {
   "cell_type": "code",
   "execution_count": 6,
   "metadata": {
    "ExecuteTime": {
     "end_time": "2021-06-18T22:01:21.621647Z",
     "start_time": "2021-06-18T22:01:19.943645Z"
    }
   },
   "outputs": [
    {
     "name": "stdout",
     "output_type": "stream",
     "text": [
      "Digite uma palavra: carro\n",
      "c\n",
      "a\n",
      "r\n",
      "r\n",
      "o\n",
      "carro\n"
     ]
    }
   ],
   "source": [
    "palavra = input(\"Digite uma palavra: \")\n",
    "novapalavra = \"\"\n",
    "for letra in palavra:\n",
    "    print(letra)\n",
    "    novapalavra+=letra\n",
    "print(novapalavra)"
   ]
  },
  {
   "cell_type": "markdown",
   "metadata": {},
   "source": [
    "## Questão #3\n",
    "### Enunciado\n",
    "Altere o exercício anterior para que a string copiada alterne entre letras maiúsculas e minúsculas.\n",
    "\n",
    "Exemplo: se o usuário digitar \"latex\" o programa deve imprimir \"LaTeX\"."
   ]
  },
  {
   "cell_type": "code",
   "execution_count": 11,
   "metadata": {
    "ExecuteTime": {
     "end_time": "2021-06-18T22:10:15.452414Z",
     "start_time": "2021-06-18T22:10:12.876334Z"
    }
   },
   "outputs": [
    {
     "name": "stdout",
     "output_type": "stream",
     "text": [
      "Digite uma palavra: latex\n",
      "l\n",
      "a\n",
      "t\n",
      "e\n",
      "x\n",
      "LaTeX\n"
     ]
    }
   ],
   "source": [
    "palavra = input(\"Digite uma palavra: \")\n",
    "novapalavra = \"\"\n",
    "upper = 1\n",
    "for letra in palavra:\n",
    "    print(letra)\n",
    "    if upper==1:\n",
    "        novapalavra+=letra.upper()\n",
    "        upper = 0\n",
    "    else:\n",
    "        novapalavra+=letra.lower()\n",
    "        upper = 1\n",
    "print(novapalavra)"
   ]
  },
  {
   "cell_type": "markdown",
   "metadata": {
    "ExecuteTime": {
     "end_time": "2021-06-18T22:12:05.362902Z",
     "start_time": "2021-06-18T22:12:05.352902Z"
    }
   },
   "source": [
    "## Questão #4\n",
    "### Enunciado\n",
    "Faça um programa que pede para o usuário digitar uma palavra e cria uma nova string igual, porém com espaço entre cada letra, depois imprima a nova string:\n",
    "Exemplo: se o usuário digitar \"python\" o programa deve imprimir \"p y t h o n \""
   ]
  },
  {
   "cell_type": "code",
   "execution_count": 14,
   "metadata": {
    "ExecuteTime": {
     "end_time": "2021-06-18T22:12:40.730953Z",
     "start_time": "2021-06-18T22:12:38.639997Z"
    }
   },
   "outputs": [
    {
     "name": "stdout",
     "output_type": "stream",
     "text": [
      "Digite uma palavra: python\n",
      "p y t h o n \n"
     ]
    }
   ],
   "source": [
    "palavra = input(\"Digite uma palavra: \")\n",
    "novapalavra = \"\"\n",
    "for letra in palavra:\n",
    "    novapalavra+=letra+\" \"\n",
    "print(novapalavra)"
   ]
  },
  {
   "cell_type": "markdown",
   "metadata": {
    "ExecuteTime": {
     "end_time": "2021-06-18T22:14:44.440199Z",
     "start_time": "2021-06-18T22:14:44.431178Z"
    }
   },
   "source": [
    "## Questão #5\n",
    "### Enunciado\n",
    "Faça uma função que receba uma string e retorne uma nova string substituindo:\n",
    "\n",
    "'a' por '4'\n",
    "\n",
    "'e' por '3'\n",
    "\n",
    "'I' por '1'\n",
    "\n",
    "'t' por '7'"
   ]
  },
  {
   "cell_type": "code",
   "execution_count": 19,
   "metadata": {
    "ExecuteTime": {
     "end_time": "2021-06-18T22:18:40.895985Z",
     "start_time": "2021-06-18T22:18:39.436959Z"
    }
   },
   "outputs": [
    {
     "name": "stdout",
     "output_type": "stream",
     "text": [
      "Digite uma palavra: tatu\n",
      "7 4 7 u \n"
     ]
    }
   ],
   "source": [
    "palavra = input(\"Digite uma palavra: \")\n",
    "novapalavra = \"\"\n",
    "for letra in palavra:\n",
    "    if letra=='a':\n",
    "        letra='4'\n",
    "    elif letra=='e':\n",
    "        letra='3'\n",
    "    elif letra=='i':\n",
    "        letra='1'\n",
    "    elif letra=='t':\n",
    "        letra='7'\n",
    "    novapalavra+=letra+\" \"\n",
    "print(novapalavra)"
   ]
  },
  {
   "cell_type": "markdown",
   "metadata": {},
   "source": [
    "## Questão #6\n",
    "### Enunciado\n",
    "Faça uma função que recebe uma string e retorna ela ao contrário.\n",
    "\n",
    "Exemplo: Recebe \"teste\" e retorna \"etset\"."
   ]
  },
  {
   "cell_type": "code",
   "execution_count": 21,
   "metadata": {
    "ExecuteTime": {
     "end_time": "2021-06-18T22:24:15.476650Z",
     "start_time": "2021-06-18T22:24:13.076637Z"
    }
   },
   "outputs": [
    {
     "name": "stdout",
     "output_type": "stream",
     "text": [
      "Digite uma palavra: teste\n",
      "etset\n"
     ]
    }
   ],
   "source": [
    "palavra = input(\"Digite uma palavra: \")\n",
    "novapalavra = \"\"\n",
    "for letra in reversed(palavra):\n",
    "    novapalavra+=letra\n",
    "print(novapalavra)"
   ]
  },
  {
   "cell_type": "markdown",
   "metadata": {},
   "source": [
    "## Questão #7\n",
    "### Enunciado\n",
    "Agora faça uma função que recebe uma palavra e diz se ela é um palíndromo, ou seja, se ela é igual a ela mesma ao contrário.\n",
    "\n",
    "Dica: Use a função do exercício 6."
   ]
  },
  {
   "cell_type": "code",
   "execution_count": 24,
   "metadata": {
    "ExecuteTime": {
     "end_time": "2021-06-18T22:28:20.815124Z",
     "start_time": "2021-06-18T22:28:18.105148Z"
    }
   },
   "outputs": [
    {
     "name": "stdout",
     "output_type": "stream",
     "text": [
      "Digite uma palavra: reviver\n",
      "A palavra é um palindromo!\n"
     ]
    }
   ],
   "source": [
    "palavra = input(\"Digite uma palavra: \")\n",
    "novapalavra = \"\"\n",
    "for letra in reversed(palavra):\n",
    "    novapalavra+=letra\n",
    "\n",
    "if palavra==novapalavra:\n",
    "    print(\"A palavra é um palindromo!\")\n",
    "else:\n",
    "    print(\"A palavra não é um palindromo\")\n",
    "    "
   ]
  },
  {
   "cell_type": "markdown",
   "metadata": {
    "ExecuteTime": {
     "end_time": "2021-06-18T22:29:48.291733Z",
     "start_time": "2021-06-18T22:29:48.277733Z"
    }
   },
   "source": [
    "## Questão #8\n",
    "### Enunciado\n",
    "Faça uma função que receba um texto e uma palavra, então verifique se a palavra está no texto, retornando True ou False."
   ]
  },
  {
   "cell_type": "code",
   "execution_count": 29,
   "metadata": {
    "ExecuteTime": {
     "end_time": "2021-06-18T22:39:27.269697Z",
     "start_time": "2021-06-18T22:39:15.588618Z"
    }
   },
   "outputs": [
    {
     "name": "stdout",
     "output_type": "stream",
     "text": [
      "Digite um texto: carro azul vermelho\n",
      "Digite uma palavra: verde\n",
      "False\n"
     ]
    }
   ],
   "source": [
    "texto = input(\"Digite um texto: \")\n",
    "palavra = input(\"Digite uma palavra: \")\n",
    "print(palavra in texto)\n",
    "    \n"
   ]
  },
  {
   "cell_type": "markdown",
   "metadata": {},
   "source": [
    "## Questão #9\n",
    "### Enunciado\n",
    "Faça uma função que receba uma string que contém tanto números quanto letras e caracteres especiais, e que separe as letras em uma variável e os números em outra (os caracteres especiais podem ser descartados).   Ao final a função deve imprimir as duas variáveis."
   ]
  },
  {
   "cell_type": "code",
   "execution_count": 31,
   "metadata": {
    "ExecuteTime": {
     "end_time": "2021-06-18T22:49:26.085018Z",
     "start_time": "2021-06-18T22:49:16.929562Z"
    }
   },
   "outputs": [
    {
     "name": "stdout",
     "output_type": "stream",
     "text": [
      "Digite um texto: carro azul 12345 %$\n",
      "Os numeros são:  ['1', '2', '3', '4', '5']\n",
      "As letras são:  ['c', 'a', 'r', 'r', 'o', 'a', 'z', 'u', 'l']\n"
     ]
    }
   ],
   "source": [
    "texto = input(\"Digite um texto: \")\n",
    "numero = []\n",
    "letras = []\n",
    "for letra in texto:\n",
    "    if letra.isdigit():\n",
    "        numero.append(letra)\n",
    "    if letra.isalpha():\n",
    "        letras.append(letra)\n",
    "\n",
    "print(\"Os numeros são: \",numero)\n",
    "print(\"As letras são: \",letras)"
   ]
  },
  {
   "cell_type": "markdown",
   "metadata": {
    "ExecuteTime": {
     "end_time": "2021-06-18T22:51:51.790470Z",
     "start_time": "2021-06-18T22:51:51.778512Z"
    }
   },
   "source": [
    "## Questão #10\n",
    "### Enunciado\n",
    "Desafio - Faça uma função que receba uma string e uma letra e:   \n",
    "a. imprima quantas vezes a letra aparece na string;  \n",
    "b. imprima todas as posições em que a letra aparece na string;  \n",
    "c. retorne a distância entre a primeira e a última aparição dessa letra na string.  "
   ]
  },
  {
   "cell_type": "code",
   "execution_count": 39,
   "metadata": {
    "ExecuteTime": {
     "end_time": "2021-06-18T23:09:33.648281Z",
     "start_time": "2021-06-18T23:09:31.496435Z"
    }
   },
   "outputs": [
    {
     "name": "stdout",
     "output_type": "stream",
     "text": [
      "Digite uma string: ecasae\n",
      "Quantas vezes a letra aparece na string: 2\n",
      "Posições em que a letra aparece na string:  [0, 5]\n",
      "Distância entre a primeira e a última aparição dessa letra na string: 5\n"
     ]
    }
   ],
   "source": [
    "texto = input(\"Digite uma string: \")\n",
    "quantidade = 0\n",
    "posicao =[]\n",
    "i = 0\n",
    "while i<len(texto):\n",
    "    if texto[i].lower()=='e':\n",
    "        quantidade+=1\n",
    "        posicao.append(i)\n",
    "    i+=1\n",
    "print(\"Quantas vezes a letra aparece na string:\", quantidade)\n",
    "print(\"Posições em que a letra aparece na string: \",posicao)\n",
    "\n",
    "print(\"Distância entre a primeira e a última aparição dessa letra na string:\",posicao[len(posicao)-1]-posicao[0])"
   ]
  },
  {
   "cell_type": "markdown",
   "metadata": {},
   "source": [
    "## Questão #11\n",
    "### Enunciado\n",
    "Super Desafio! - faça uma função que criptografa uma mensagem substituindo cada letra pela letra oposta do dicionário:\n",
    "'a' por 'z'\n",
    "'b' por 'y'\n",
    "'c' por 'x'"
   ]
  },
  {
   "cell_type": "code",
   "execution_count": 51,
   "metadata": {
    "ExecuteTime": {
     "end_time": "2021-06-18T23:24:54.902181Z",
     "start_time": "2021-06-18T23:24:51.533475Z"
    }
   },
   "outputs": [
    {
     "name": "stdout",
     "output_type": "stream",
     "text": [
      "Digite um texto: a casa e azul\n",
      "z xzhz v zafo\n"
     ]
    }
   ],
   "source": [
    "alfabeto = ['a','b','c','d','e','f','g','h','i','j','k','l','m','n','o','p','q','r','s','t','u','v','w','x','y','z']\n",
    "texto = input(\"Digite um texto: \")\n",
    "resposta = ''\n",
    "for letra in texto:\n",
    "    if letra.isalpha():\n",
    "        resposta+=alfabeto[(alfabeto.index(letra.lower())+1)*-1]\n",
    "    else:\n",
    "        resposta+=letra\n",
    "print(resposta)"
   ]
  }
 ],
 "metadata": {
  "kernelspec": {
   "display_name": "Python 3",
   "language": "python",
   "name": "python3"
  },
  "language_info": {
   "codemirror_mode": {
    "name": "ipython",
    "version": 3
   },
   "file_extension": ".py",
   "mimetype": "text/x-python",
   "name": "python",
   "nbconvert_exporter": "python",
   "pygments_lexer": "ipython3",
   "version": "3.9.5"
  }
 },
 "nbformat": 4,
 "nbformat_minor": 4
}
