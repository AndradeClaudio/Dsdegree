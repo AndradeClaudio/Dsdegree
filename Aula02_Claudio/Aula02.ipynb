{
 "cells": [
  {
   "cell_type": "markdown",
   "metadata": {},
   "source": [
    "# Aula 2 - Variáveis, entradas e saídas"
   ]
  },
  {
   "cell_type": "markdown",
   "metadata": {},
   "source": [
    "**x** é uma variável\n",
    "\n",
    "***20*** é dado armazenado na variável\n",
    "\n",
    "*=* operador de atribuição\n"
   ]
  },
  {
   "cell_type": "markdown",
   "metadata": {},
   "source": [
    "- int: números inteiros\n",
    "- float: números decimais\n",
    "- str: Caracter\n",
    "- bool: valores lógicos"
   ]
  },
  {
   "cell_type": "markdown",
   "metadata": {},
   "source": [
    "## Questão #5\n",
    "### Enunciado\n",
    "- Faça um programa que peça as 4 notas bimestrais de um aluno e mostre a média aritmética delas."
   ]
  },
  {
   "cell_type": "code",
   "execution_count": 35,
   "metadata": {},
   "outputs": [
    {
     "name": "stdout",
     "output_type": "stream",
     "text": [
      "Informe a 1 nota: 10\n",
      "Informe a 2 nota: 10\n",
      "Informe a 3 nota: 10\n",
      "Informe a 4 nota: 10\n",
      "A média foi:  10.0\n"
     ]
    }
   ],
   "source": [
    "a = float(input(\"Informe a 1 nota: \"))\n",
    "b = float(input(\"Informe a 2 nota: \"))\n",
    "c = float(input(\"Informe a 3 nota: \"))\n",
    "d = float(input(\"Informe a 4 nota: \"))\n",
    "\n",
    "print(\"A média foi: \",(a+b+c+d)/4)\n"
   ]
  },
  {
   "cell_type": "markdown",
   "metadata": {},
   "source": [
    "## Questão #6\n",
    "### Enunciado\n",
    "- Faça um programa que peça o raio de um círculo, calcule e mostre sua área.\n",
    "- Obs: Fórmula da área de um círculo: $$ A = 3,14 * (r ** 2) $$ \n",
    "*onde r é o raio."
   ]
  },
  {
   "cell_type": "code",
   "execution_count": 38,
   "metadata": {},
   "outputs": [
    {
     "name": "stdout",
     "output_type": "stream",
     "text": [
      "Informe o raio do circulo: 15\n",
      "A área do círculo é: 706.5\n"
     ]
    }
   ],
   "source": [
    "r = float(input(\"Informe o raio do circulo: \"))\n",
    "print(\"A área do círculo é:\", 3.14*(r**2))"
   ]
  },
  {
   "cell_type": "markdown",
   "metadata": {},
   "source": [
    "## Questão #7\n",
    "#### Enunciado\n",
    "Faça um programa que pergunte quanto você ganha por hora e o número de horas trabalhadas no mês e depois, calcule e mostre o total do seu salário no referido mês."
   ]
  },
  {
   "cell_type": "code",
   "execution_count": 41,
   "metadata": {},
   "outputs": [
    {
     "name": "stdout",
     "output_type": "stream",
     "text": [
      "Informe o valor hora de trabalho: 100\n",
      "Informe quantidade de dias de trabalho: 10\n",
      "Salário mês é: R$ 1000.0\n"
     ]
    }
   ],
   "source": [
    "h = float(input(\"Informe o valor hora de trabalho: \"))\n",
    "d = float(input(\"Informe quantidade de dias de trabalho: \"))\n",
    "print(\"Salário mês é: R$\",h * d)"
   ]
  },
  {
   "cell_type": "markdown",
   "metadata": {},
   "source": [
    "## Questão #8\n",
    "## Enunciado\n",
    "Faça um programa que peça a temperatura em graus Fahrenheit (F), transforme e mostre a temperatura em graus Celsius (°C).\n",
    "$$\n",
    "°C = (5 * (F-32) / 9)\n",
    "$$\n",
    "$$\n",
    "°F = (C × 9/5) + 32 \n",
    "$$\n",
    "Obs: Tente também fazer um programa que faça o inverso: peça a temperatura em graus Celsius e a transforme em graus Fahrenheit."
   ]
  },
  {
   "cell_type": "code",
   "execution_count": 44,
   "metadata": {},
   "outputs": [
    {
     "name": "stdout",
     "output_type": "stream",
     "text": [
      "Informe a temperatura:70\n",
      "A temperatura em Celsius é:  21.11111111111111\n",
      "Informe a temperatura:21.1\n",
      "A temperatura em Celsius é:  69.98\n"
     ]
    }
   ],
   "source": [
    "temperatura = float(input(\"Informe a temperatura:\" ))\n",
    "Celsius = (5 *(temperatura-32)/9)\n",
    "print(\"A temperatura em Celsius é: \", Celsius)\n",
    "temperatura = float(input(\"Informe a temperatura:\" ))\n",
    "Fahrenheit = ((temperatura*9)/5+32)\n",
    "print(\"A temperatura em Celsius é: \", Fahrenheit)"
   ]
  },
  {
   "cell_type": "markdown",
   "metadata": {},
   "source": [
    "### Questão #9\n",
    "## Enunciado\n",
    "Faça um programa que peça o dia, o mês e o ano para o usuário e imprima a data completa no formato dd/mm/aaaa."
   ]
  },
  {
   "cell_type": "code",
   "execution_count": 12,
   "metadata": {},
   "outputs": [
    {
     "name": "stdout",
     "output_type": "stream",
     "text": [
      "Informe o dia: 2\n",
      "Informe o mês: 20\n",
      "Mês inválido, informe um mês válido\n",
      "Informe o mês: 10\n",
      "Informe o ano: 2020\n",
      "02/10/2020\n"
     ]
    }
   ],
   "source": [
    "while True:\n",
    "    data = int(input(\"Informe o dia: \"))    \n",
    "    if (data<1 or data >31):\n",
    "        print(\"Data inválida, informe um dia entre 1 e 31\")\n",
    "        continue\n",
    "    else:\n",
    "        break\n",
    "while True:\n",
    "    mes  = int(input(\"Informe o mês: \"))\n",
    "    if (mes<1 or mes >12):\n",
    "        print(\"Mês inválido, informe um mês válido\")\n",
    "        continue\n",
    "    else:\n",
    "        break\n",
    "\n",
    "while True:\n",
    "    ano  = input(\"Informe o ano: \")\n",
    "    if (len(ano)!=4):\n",
    "        print(\"Ano inválido, informe um ano com 4 digítos\")\n",
    "        continue\n",
    "    else:\n",
    "        break\n",
    "print((f'{data:02d}'+\"/\"+f'{mes:02d}'+\"/\"+ano))"
   ]
  },
  {
   "cell_type": "markdown",
   "metadata": {},
   "source": [
    "## Questão #10\n",
    "#### Enunciado\n",
    "Faça um programa que peça 2 números inteiros e um número real, calcule e mostre:\n",
    "\n",
    "a) o produto do dobro do primeiro com metade do segundo.\n",
    "\n",
    "b) a soma do triplo do primeiro com o terceiro.\n",
    "\n",
    "c) o terceiro elevado ao cubo.\n",
    "    "
   ]
  },
  {
   "cell_type": "code",
   "execution_count": 16,
   "metadata": {},
   "outputs": [
    {
     "name": "stdout",
     "output_type": "stream",
     "text": [
      "Informe o primeiro numero: 2\n",
      "Informe o segundo numero: 2\n",
      "Informe um numero real: 3\n",
      "Resultado A:  4.0\n",
      "Resultado B:  9.0\n",
      "Resultado C:  27.0\n"
     ]
    }
   ],
   "source": [
    "a = int(input(\"Informe o primeiro numero: \"))\n",
    "b = int(input(\"Informe o segundo numero: \"))\n",
    "c = float(input(\"Informe um numero real: \"))\n",
    "print(\"Resultado A: \",(a*2)*(b/2))\n",
    "print(\"Resultado B: \",(a*3)+c)\n",
    "print(\"Resultado C: \",(c**3))\n"
   ]
  },
  {
   "cell_type": "code",
   "execution_count": null,
   "metadata": {},
   "outputs": [],
   "source": []
  },
  {
   "cell_type": "markdown",
   "metadata": {},
   "source": [
    "## QUESTÃO #11\n",
    "Enunciado\n",
    "Faça um programa que peça o peso e altura de uma pessoa e calcule seu IMC (Índice de Massa Corporal).\n",
    "\n",
    "Obs: IMC = Peso/Altura**2"
   ]
  },
  {
   "cell_type": "code",
   "execution_count": 19,
   "metadata": {},
   "outputs": [
    {
     "name": "stdout",
     "output_type": "stream",
     "text": [
      "Informe o peso: 115\n",
      "Informe a altura: 1.89\n",
      "O IMC é: 32.19394753786288\n"
     ]
    }
   ],
   "source": [
    "peso = float(input(\"Informe o peso: \"))\n",
    "altura = float(input(\"Informe a altura: \"))\n",
    "print(\"O IMC é:\", (peso/(altura**2)))"
   ]
  },
  {
   "cell_type": "markdown",
   "metadata": {},
   "source": [
    "## QUESTÃO #12\n",
    "### Enunciado\n",
    "Faça um programa que peça um valor monetário e aumente-o em 15%. Seu programa deve imprimir a mensagem “O novo valor é [valor]”."
   ]
  },
  {
   "cell_type": "code",
   "execution_count": 20,
   "metadata": {},
   "outputs": [
    {
     "name": "stdout",
     "output_type": "stream",
     "text": [
      "Informe o valor: 10\n",
      "O novo valor é: 11.5\n"
     ]
    }
   ],
   "source": [
    "valor = float(input(\"Informe o valor: \"))\n",
    "print(\"O novo valor é:\", valor*1.15)"
   ]
  },
  {
   "cell_type": "markdown",
   "metadata": {},
   "source": [
    "## QUESTÃO #13\n",
    "### Enunciado\n",
    "Faça um programa que peça um valor monetário e diminua-o em 15%. Seu programa deve imprimir a mensagem “O novo valor é [valor]”."
   ]
  },
  {
   "cell_type": "code",
   "execution_count": 21,
   "metadata": {
    "scrolled": true
   },
   "outputs": [
    {
     "name": "stdout",
     "output_type": "stream",
     "text": [
      "Informe o valor: 10\n",
      "O novo valor é: 8.5\n"
     ]
    }
   ],
   "source": [
    "valor = float(input(\"Informe o valor: \"))\n",
    "print(\"O novo valor é:\", valor*0.85)"
   ]
  },
  {
   "cell_type": "markdown",
   "metadata": {},
   "source": [
    "## QUESTÃO #13\n",
    "### Enunciado\n",
    "Desafio 1 - Peça para o usuário digitar uma velocidade inicial (em m/s), uma posição inicial (em m) e um instante de tempo (em s) e imprima a posição de um projétil nesse instante de tempo.\n",
    "\n",
    "Use a fórmula matemática:\n",
    "$$\n",
    "y(t) = y(0) + v(0)*t + (g*(t**2)/2)\n",
    "$$\n",
    "g é a aceleração da gravidade (-10m/s²)   \n",
    "y(t) é a posição final  \n",
    "y(0) é a posição inicial   \n",
    "v(0) é a velocidade inicial  \n",
    "t é o instante de tempo.  "
   ]
  },
  {
   "cell_type": "code",
   "execution_count": 28,
   "metadata": {},
   "outputs": [
    {
     "name": "stdout",
     "output_type": "stream",
     "text": [
      "Digite velocidade em m/s:2\n",
      "Digite posição inicial em m: 2\n",
      "Digite um instante de tempo em s: 2\n",
      "Posicao Final:  -14.0\n"
     ]
    }
   ],
   "source": [
    "gravidade = -10\n",
    "velocidade = float(input(\"Digite velocidade em m/s:\"))\n",
    "posicao_inicial = float(input(\"Digite posição inicial em m: \"))\n",
    "tempo = float(input(\"Digite um instante de tempo em s: \"))\n",
    "posicao_final = (posicao_inicial + velocidade* tempo+(gravidade*tempo**2)/2)\n",
    "print(\"Posicao Final: \", posicao_final)"
   ]
  },
  {
   "cell_type": "markdown",
   "metadata": {},
   "source": [
    "## QUESTÃO #14\n",
    "### Enunciado\n",
    "Desafio 2 - Faça um programa que informe a data e a hora para o usuário. Para isso use a função datetime.now() do módulo datetime."
   ]
  },
  {
   "cell_type": "code",
   "execution_count": 41,
   "metadata": {},
   "outputs": [
    {
     "name": "stdout",
     "output_type": "stream",
     "text": [
      "A data e hora atual é: 09/06/2021 22:35\n"
     ]
    }
   ],
   "source": [
    "from datetime import datetime\n",
    "print(\"A data e hora atual é:\",f'{datetime.now():%d/%m/%Y %H:%M}')"
   ]
  }
 ],
 "metadata": {
  "kernelspec": {
   "display_name": "Python 3",
   "language": "python",
   "name": "python3"
  },
  "language_info": {
   "codemirror_mode": {
    "name": "ipython",
    "version": 3
   },
   "file_extension": ".py",
   "mimetype": "text/x-python",
   "name": "python",
   "nbconvert_exporter": "python",
   "pygments_lexer": "ipython3",
   "version": "3.9.5"
  }
 },
 "nbformat": 4,
 "nbformat_minor": 4
}
